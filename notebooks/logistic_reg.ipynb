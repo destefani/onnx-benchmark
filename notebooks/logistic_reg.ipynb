{
 "cells": [
  {
   "cell_type": "markdown",
   "metadata": {},
   "source": [
    "# Logistic Regression"
   ]
  },
  {
   "cell_type": "code",
   "execution_count": 1,
   "metadata": {},
   "outputs": [],
   "source": [
    "from pathlib import Path\n",
    "import numpy as np\n",
    "import matplotlib.pyplot as plt\n",
    "from sklearn.datasets import load_iris\n",
    "from sklearn.linear_model import LogisticRegression"
   ]
  },
  {
   "cell_type": "markdown",
   "metadata": {},
   "source": [
    "## Load Data"
   ]
  },
  {
   "cell_type": "code",
   "execution_count": 2,
   "metadata": {},
   "outputs": [],
   "source": [
    "iris = load_iris()\n",
    "X, y = iris.data, iris.target"
   ]
  },
  {
   "cell_type": "code",
   "execution_count": 3,
   "metadata": {},
   "outputs": [
    {
     "name": "stdout",
     "output_type": "stream",
     "text": [
      "X shape (100, 100)\n",
      "X example [-0.35205207 -0.69279609  1.81209312 -0.45738326 -1.80701217 -0.54311716\n",
      "  0.49053358  1.7285293  -0.29986388  0.89915369  0.23615477 -0.49689827\n",
      " -0.22513294  0.62159903 -0.60690971  0.26674585  1.30063601 -0.97670051\n",
      "  0.3339427   0.20017859  0.57271373 -2.88477509  0.5059092   0.69035764\n",
      "  0.41987245 -1.20958609  0.26129794 -0.51918168  1.57742738  0.77256207\n",
      " -0.97861134  1.7342215   0.15511774 -1.19627687 -1.85716606 -0.35158422\n",
      " -0.21299438 -0.16047745  0.44910956  1.03460385 -0.88535268 -2.20528715\n",
      " -0.66135497 -0.09874927 -0.39686063  0.38928856  0.02124242  1.22616386\n",
      "  0.40962288 -0.982113    0.40741168  1.88913033  0.27645403  1.37369061\n",
      " -2.2313305   1.41558957  0.09287023  0.05671697 -0.5914969  -0.74761669\n",
      " -1.42353898  1.11435735  0.67037357  1.20996652  1.91805951 -0.74833707\n",
      "  0.24517938  2.52656297  1.65232133  0.93795446  0.17088269  0.26235573\n",
      "  0.68030412  0.5076055   1.03259102 -0.02921635  0.72869724  0.47847228\n",
      " -0.06326772  0.79337961  0.0086397  -0.06728344 -0.72637495 -0.37002453\n",
      "  1.32247101  1.71465091  0.12805113  1.28558449  0.53329355 -0.40554791\n",
      " -0.82946138 -0.49948521 -3.2501566   0.52605393 -0.4411945   0.89017104\n",
      " -0.43381122 -0.29369609 -1.54635022 -0.93812742]\n",
      "y shape (100,)\n",
      "y example 0\n"
     ]
    }
   ],
   "source": [
    "n_features = 100\n",
    "n_observations = 100\n",
    "\n",
    "X = np.random.randn(n_observations, n_features)\n",
    "y = np.random.randint(0, 3, n_observations)\n",
    "\n",
    "print(\"X shape\", X.shape)\n",
    "print(\"X example\", X[0])\n",
    "print(\"y shape\", y.shape)\n",
    "print(\"y example\", y[0])"
   ]
  },
  {
   "cell_type": "markdown",
   "metadata": {},
   "source": [
    "## Train Model"
   ]
  },
  {
   "cell_type": "code",
   "execution_count": 4,
   "metadata": {},
   "outputs": [
    {
     "data": {
      "text/plain": [
       "LogisticRegression()"
      ]
     },
     "execution_count": 4,
     "metadata": {},
     "output_type": "execute_result"
    }
   ],
   "source": [
    "clf = LogisticRegression()\n",
    "clf.fit(X, y)"
   ]
  },
  {
   "cell_type": "markdown",
   "metadata": {},
   "source": [
    "## Save Weights"
   ]
  },
  {
   "cell_type": "code",
   "execution_count": 5,
   "metadata": {},
   "outputs": [
    {
     "ename": "FileNotFoundError",
     "evalue": "[Errno 2] No such file or directory: 'models/log_reg_model.joblib'",
     "output_type": "error",
     "traceback": [
      "\u001b[0;31m---------------------------------------------------------------------------\u001b[0m",
      "\u001b[0;31mFileNotFoundError\u001b[0m                         Traceback (most recent call last)",
      "\u001b[1;32m/home/im/code/onnx-benchmark/logistic_reg.ipynb Cell 9'\u001b[0m in \u001b[0;36m<cell line: 3>\u001b[0;34m()\u001b[0m\n\u001b[1;32m      <a href='vscode-notebook-cell:/home/im/code/onnx-benchmark/logistic_reg.ipynb#ch0000008?line=0'>1</a>\u001b[0m \u001b[39mfrom\u001b[39;00m \u001b[39mjoblib\u001b[39;00m \u001b[39mimport\u001b[39;00m dump\n\u001b[0;32m----> <a href='vscode-notebook-cell:/home/im/code/onnx-benchmark/logistic_reg.ipynb#ch0000008?line=2'>3</a>\u001b[0m dump(clf, \u001b[39m\"\u001b[39;49m\u001b[39mmodels/log_reg_model.joblib\u001b[39;49m\u001b[39m\"\u001b[39;49m)\n",
      "File \u001b[0;32m~/miniconda3/envs/onnx/lib/python3.8/site-packages/joblib/numpy_pickle.py:481\u001b[0m, in \u001b[0;36mdump\u001b[0;34m(value, filename, compress, protocol, cache_size)\u001b[0m\n\u001b[1;32m    <a href='file:///home/im/miniconda3/envs/onnx/lib/python3.8/site-packages/joblib/numpy_pickle.py?line=478'>479</a>\u001b[0m         NumpyPickler(f, protocol\u001b[39m=\u001b[39mprotocol)\u001b[39m.\u001b[39mdump(value)\n\u001b[1;32m    <a href='file:///home/im/miniconda3/envs/onnx/lib/python3.8/site-packages/joblib/numpy_pickle.py?line=479'>480</a>\u001b[0m \u001b[39melif\u001b[39;00m is_filename:\n\u001b[0;32m--> <a href='file:///home/im/miniconda3/envs/onnx/lib/python3.8/site-packages/joblib/numpy_pickle.py?line=480'>481</a>\u001b[0m     \u001b[39mwith\u001b[39;00m \u001b[39mopen\u001b[39;49m(filename, \u001b[39m'\u001b[39;49m\u001b[39mwb\u001b[39;49m\u001b[39m'\u001b[39;49m) \u001b[39mas\u001b[39;00m f:\n\u001b[1;32m    <a href='file:///home/im/miniconda3/envs/onnx/lib/python3.8/site-packages/joblib/numpy_pickle.py?line=481'>482</a>\u001b[0m         NumpyPickler(f, protocol\u001b[39m=\u001b[39mprotocol)\u001b[39m.\u001b[39mdump(value)\n\u001b[1;32m    <a href='file:///home/im/miniconda3/envs/onnx/lib/python3.8/site-packages/joblib/numpy_pickle.py?line=482'>483</a>\u001b[0m \u001b[39melse\u001b[39;00m:\n",
      "\u001b[0;31mFileNotFoundError\u001b[0m: [Errno 2] No such file or directory: 'models/log_reg_model.joblib'"
     ]
    }
   ],
   "source": [
    "from joblib import dump\n",
    "\n",
    "dump(clf, \"models/log_reg_model.joblib\")"
   ]
  },
  {
   "cell_type": "code",
   "execution_count": null,
   "metadata": {},
   "outputs": [
    {
     "ename": "",
     "evalue": "",
     "output_type": "error",
     "traceback": [
      "\u001b[1;31mJupyter cannot be started. Error attempting to locate jupyter: Running cells with 'Python 3.8.10 64-bit' requires jupyter and notebook package.\n",
      "Run the following command to install 'jupyter and notebook' into the Python environment. \n",
      "Command: 'python -m pip install jupyter notebook -U\n",
      "or\n",
      "conda install jupyter notebook -U'\n",
      "Click <a href='https://aka.ms/installJupyterForVSCode'>here</a> for more info."
     ]
    }
   ],
   "source": [
    "# Check file size\n",
    "from utils import execution_time\n",
    "\n",
    "test_rows = 10000000\n",
    "\n",
    "X_test = np.random.rand(test_rows, n_features)\n",
    "\n",
    "inference_time = execution_time(clf.predict(X_test))\n",
    "weights_size = Path(\"models/log_reg_model.joblib\").stat().st_size\n",
    "\n",
    "print(f\"Inference time: {inference_time:.2f}s\")\n",
    "print(f\"File size: {weights_size / 1000} KB\")\n",
    "print(f\"Test rows: {(test_rows / 1000000)} million\")"
   ]
  },
  {
   "cell_type": "markdown",
   "metadata": {},
   "source": [
    "## Export model as ONNX"
   ]
  },
  {
   "cell_type": "code",
   "execution_count": null,
   "metadata": {},
   "outputs": [
    {
     "ename": "",
     "evalue": "",
     "output_type": "error",
     "traceback": [
      "\u001b[1;31mJupyter cannot be started. Error attempting to locate jupyter: Running cells with 'Python 3.8.10 64-bit' requires jupyter and notebook package.\n",
      "Run the following command to install 'jupyter and notebook' into the Python environment. \n",
      "Command: 'python -m pip install jupyter notebook -U\n",
      "or\n",
      "conda install jupyter notebook -U'\n",
      "Click <a href='https://aka.ms/installJupyterForVSCode'>here</a> for more info."
     ]
    }
   ],
   "source": [
    "from skl2onnx import convert_sklearn\n",
    "from skl2onnx.common.data_types import FloatTensorType\n",
    "\n",
    "initial_type = [('float_input', FloatTensorType([None, n_features]))]\n",
    "onx = convert_sklearn(clf, initial_types=initial_type)\n",
    "with open(\"models/log_reg_model.onnx\", \"wb\") as f:\n",
    "    f.write(onx.SerializeToString())"
   ]
  },
  {
   "cell_type": "code",
   "execution_count": null,
   "metadata": {},
   "outputs": [
    {
     "ename": "",
     "evalue": "",
     "output_type": "error",
     "traceback": [
      "\u001b[1;31mJupyter cannot be started. Error attempting to locate jupyter: Running cells with 'Python 3.8.10 64-bit' requires jupyter and notebook package.\n",
      "Run the following command to install 'jupyter and notebook' into the Python environment. \n",
      "Command: 'python -m pip install jupyter notebook -U\n",
      "or\n",
      "conda install jupyter notebook -U'\n",
      "Click <a href='https://aka.ms/installJupyterForVSCode'>here</a> for more info."
     ]
    }
   ],
   "source": [
    "import onnxruntime as rt\n",
    "\n",
    "sess = rt.InferenceSession(\"models/log_reg_model.onnx\")\n",
    "input_name = sess.get_inputs()[0].name\n",
    "label_name = sess.get_outputs()[0].name\n",
    "\n",
    "X_test_onnx = X_test.astype(np.float32)\n",
    "\n",
    "pred_onx = sess.run([label_name], {input_name: X_test_onnx})[0]"
   ]
  },
  {
   "cell_type": "code",
   "execution_count": null,
   "metadata": {},
   "outputs": [
    {
     "ename": "",
     "evalue": "",
     "output_type": "error",
     "traceback": [
      "\u001b[1;31mJupyter cannot be started. Error attempting to locate jupyter: Running cells with 'Python 3.8.10 64-bit' requires jupyter and notebook package.\n",
      "Run the following command to install 'jupyter and notebook' into the Python environment. \n",
      "Command: 'python -m pip install jupyter notebook -U\n",
      "or\n",
      "conda install jupyter notebook -U'\n",
      "Click <a href='https://aka.ms/installJupyterForVSCode'>here</a> for more info."
     ]
    }
   ],
   "source": [
    "test_rows = 10000000\n",
    "\n",
    "X_test = np.random.rand(test_rows, 4)\n",
    "\n",
    "inference_time = execution_time(lambda: sess.run([label_name], {input_name: X_test_onnx}))\n",
    "weights_size = Path(\"models/log_reg_model.onnx\").stat().st_size\n",
    "\n",
    "print(f\"Inference time: {inference_time:.2f}s\")\n",
    "print(f\"File size: {weights_size / 1000} KB\")\n",
    "print(f\"Test rows: {(test_rows / 1000000)} million\")"
   ]
  }
 ],
 "metadata": {
  "interpreter": {
   "hash": "92f6c8b6bdf7ebb20c93336518ddb8fd8dee2042dce8e5033c2591f230ecc507"
  },
  "kernelspec": {
   "display_name": "Python 3.8.13 ('onnx')",
   "language": "python",
   "name": "python3"
  },
  "language_info": {
   "codemirror_mode": {
    "name": "ipython",
    "version": 3
   },
   "file_extension": ".py",
   "mimetype": "text/x-python",
   "name": "python",
   "nbconvert_exporter": "python",
   "pygments_lexer": "ipython3",
   "version": "3.8.13"
  },
  "orig_nbformat": 4
 },
 "nbformat": 4,
 "nbformat_minor": 2
}
